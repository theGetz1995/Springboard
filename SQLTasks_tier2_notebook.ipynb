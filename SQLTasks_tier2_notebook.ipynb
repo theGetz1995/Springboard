{
 "cells": [
  {
   "cell_type": "code",
   "execution_count": 1,
   "metadata": {},
   "outputs": [],
   "source": [
    "from sqlalchemy import create_engine\n",
    "import pandas as pd"
   ]
  },
  {
   "cell_type": "code",
   "execution_count": 2,
   "metadata": {},
   "outputs": [],
   "source": [
    "engine = create_engine('sqlite:///sqlite_db_pythonsqlite.db')"
   ]
  },
  {
   "cell_type": "code",
   "execution_count": 3,
   "metadata": {},
   "outputs": [
    {
     "name": "stdout",
     "output_type": "stream",
     "text": [
      "['Bookings', 'Facilities', 'Members']\n"
     ]
    }
   ],
   "source": [
    "table_names = engine.table_names()\n",
    "print(table_names)"
   ]
  },
  {
   "cell_type": "code",
   "execution_count": 4,
   "metadata": {},
   "outputs": [],
   "source": [
    "con = engine.connect()\n",
    "rs = con.execute('SELECT f.name, SUM(CASE WHEN b.memid = 0 THEN f.guestcost * b.slots ELSE f.membercost * b.slots END) AS totalcost FROM Bookings AS b INNER JOIN Facilities AS f USING(facid) GROUP BY f.name HAVING totalcost < 1000 ORDER BY totalcost')\n",
    "df = pd.DataFrame(rs.fetchall())\n",
    "df.columns = rs.keys()\n",
    "con.close()"
   ]
  },
  {
   "cell_type": "code",
   "execution_count": 5,
   "metadata": {},
   "outputs": [
    {
     "name": "stdout",
     "output_type": "stream",
     "text": [
      "            name  totalcost\n",
      "0   Table Tennis        180\n",
      "1  Snooker Table        240\n",
      "2     Pool Table        270\n"
     ]
    }
   ],
   "source": [
    "print(df)"
   ]
  },
  {
   "cell_type": "code",
   "execution_count": 6,
   "metadata": {},
   "outputs": [
    {
     "name": "stdout",
     "output_type": "stream",
     "text": [
      "              surname  firstname   recFirst   recLast\n",
      "0               Bader   Florence     Ponder  Stibbons\n",
      "1               Baker       Anne     Ponder  Stibbons\n",
      "2               Baker    Timothy     Jemima   Farrell\n",
      "3              Boothe        Tim        Tim    Rownam\n",
      "4             Butters     Gerald     Darren     Smith\n",
      "5              Coplin       Joan    Timothy     Baker\n",
      "6             Crumpet      Erica      Tracy     Smith\n",
      "7                Dare      Nancy     Janice  Joplette\n",
      "8             Genting    Matthew     Gerald   Butters\n",
      "9                Hunt       John  Millicent   Purview\n",
      "10              Jones      David     Janice  Joplette\n",
      "11              Jones    Douglas      David     Jones\n",
      "12           Joplette     Janice     Darren     Smith\n",
      "13          Mackenzie       Anna     Darren     Smith\n",
      "14               Owen    Charles     Darren     Smith\n",
      "15             Pinker      David     Jemima   Farrell\n",
      "16            Purview  Millicent      Tracy     Smith\n",
      "17             Rumney  Henrietta    Matthew   Genting\n",
      "18             Sarwin  Ramnaresh   Florence     Bader\n",
      "19              Smith       Jack     Darren     Smith\n",
      "20           Stibbons     Ponder     Burton     Tracy\n",
      "21  Worthington-Smyth      Henry      Tracy     Smith\n"
     ]
    }
   ],
   "source": [
    "con = engine.connect()\n",
    "rs = con.execute('SELECT m1.surname, m1.firstname, m2.firstname AS recFirst, m2.surname AS recLast FROM (SELECT * FROM Members WHERE recommendedby > 0) AS m1 LEFT JOIN Members as m2 ON m1.recommendedby = m2.memid ORDER BY m1.surname, m1.firstname')\n",
    "df = pd.DataFrame(rs.fetchall())\n",
    "df.columns = rs.keys()\n",
    "con.close()\n",
    "print(df)"
   ]
  },
  {
   "cell_type": "code",
   "execution_count": 7,
   "metadata": {},
   "outputs": [
    {
     "name": "stdout",
     "output_type": "stream",
     "text": [
      "              name  memberslotsbooked\n",
      "0  Badminton Court               1086\n",
      "1   Massage Room 1                884\n",
      "2   Massage Room 2                 54\n",
      "3       Pool Table                856\n",
      "4    Snooker Table                860\n",
      "5     Squash Court                418\n",
      "6     Table Tennis                794\n",
      "7   Tennis Court 1                957\n",
      "8   Tennis Court 2                882\n"
     ]
    }
   ],
   "source": [
    "con = engine.connect()\n",
    "rs = con.execute('SELECT f.name, SUM(slots) AS memberslotsbooked FROM Bookings INNER JOIN Facilities AS f USING (facid) WHERE memid > 0 GROUP BY f.name')\n",
    "df = pd.DataFrame(rs.fetchall())\n",
    "df.columns = rs.keys()\n",
    "con.close\n",
    "print(df)"
   ]
  },
  {
   "cell_type": "code",
   "execution_count": 8,
   "metadata": {},
   "outputs": [
    {
     "name": "stdout",
     "output_type": "stream",
     "text": [
      "               name month  memberslotsbooked\n",
      "0   Badminton Court    07                165\n",
      "1   Badminton Court    08                414\n",
      "2   Badminton Court    09                507\n",
      "3    Massage Room 1    07                166\n",
      "4    Massage Room 1    08                316\n",
      "5    Massage Room 1    09                402\n",
      "6    Massage Room 2    07                  8\n",
      "7    Massage Room 2    08                 18\n",
      "8    Massage Room 2    09                 28\n",
      "9        Pool Table    07                110\n",
      "10       Pool Table    08                303\n",
      "11       Pool Table    09                443\n",
      "12    Snooker Table    07                140\n",
      "13    Snooker Table    08                316\n",
      "14    Snooker Table    09                404\n",
      "15     Squash Court    07                 50\n",
      "16     Squash Court    08                184\n",
      "17     Squash Court    09                184\n",
      "18     Table Tennis    07                 98\n",
      "19     Table Tennis    08                296\n",
      "20     Table Tennis    09                400\n",
      "21   Tennis Court 1    07                201\n",
      "22   Tennis Court 1    08                339\n",
      "23   Tennis Court 1    09                417\n",
      "24   Tennis Court 2    07                123\n",
      "25   Tennis Court 2    08                345\n",
      "26   Tennis Court 2    09                414\n"
     ]
    }
   ],
   "source": [
    "con = engine.connect()\n",
    "rs = con.execute('SELECT f.name, strftime(\"%m\", starttime) AS month, SUM(slots) AS memberslotsbooked FROM Bookings AS b INNER JOIN Facilities AS f USING (facid) WHERE memid > 0 GROUP BY f.name, month')\n",
    "df = pd.DataFrame(rs.fetchall())\n",
    "df.columns = rs.keys()\n",
    "con.close()\n",
    "print(df)"
   ]
  },
  {
   "cell_type": "code",
   "execution_count": null,
   "metadata": {},
   "outputs": [],
   "source": []
  }
 ],
 "metadata": {
  "kernelspec": {
   "display_name": "Python 3",
   "language": "python",
   "name": "python3"
  },
  "language_info": {
   "codemirror_mode": {
    "name": "ipython",
    "version": 3
   },
   "file_extension": ".py",
   "mimetype": "text/x-python",
   "name": "python",
   "nbconvert_exporter": "python",
   "pygments_lexer": "ipython3",
   "version": "3.8.5"
  }
 },
 "nbformat": 4,
 "nbformat_minor": 4
}
